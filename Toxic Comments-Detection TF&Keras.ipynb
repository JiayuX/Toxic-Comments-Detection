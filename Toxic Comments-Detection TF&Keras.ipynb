{
 "cells": [
  {
   "cell_type": "markdown",
   "metadata": {},
   "source": [
    "# Toxic Comments-Detection (TF&Keras)"
   ]
  },
  {
   "cell_type": "markdown",
   "metadata": {
    "id": "LsML57Id8g4J"
   },
   "source": [
    "## Data preparation & preprocessing"
   ]
  },
  {
   "cell_type": "markdown",
   "metadata": {},
   "source": [
    "### Import libraries"
   ]
  },
  {
   "cell_type": "code",
   "execution_count": 1,
   "metadata": {
    "executionInfo": {
     "elapsed": 270,
     "status": "ok",
     "timestamp": 1640667650046,
     "user": {
      "displayName": "Dennis X",
      "photoUrl": "https://lh3.googleusercontent.com/a/default-user=s64",
      "userId": "07673593424094128995"
     },
     "user_tz": 300
    },
    "id": "Mb-BmSXK0od4"
   },
   "outputs": [],
   "source": [
    "import os\n",
    "import sys\n",
    "import pandas as pd\n",
    "import numpy as np\n",
    "import matplotlib.pyplot as plt\n",
    "from preprocessing import *"
   ]
  },
  {
   "cell_type": "markdown",
   "metadata": {},
   "source": [
    "### Load the pretrained word embeddings & dataset"
   ]
  },
  {
   "cell_type": "markdown",
   "metadata": {},
   "source": [
    "We load the pretrained GloVe (Jeffrey Pennington, Richard Socher, and Christopher D. Manning. 2014.) as the word embeddings and perform transfer learning."
   ]
  },
  {
   "cell_type": "code",
   "execution_count": 2,
   "metadata": {},
   "outputs": [
    {
     "name": "stdout",
     "output_type": "stream",
     "text": [
      "Loading word embeddings...\n",
      "A total of 400000 word embeddings were founded.\n"
     ]
    }
   ],
   "source": [
    "EMBEDDING_DIM = 50\n",
    "\n",
    "print('Loading word embeddings...')\n",
    "word2vec = {}\n",
    "with open(os.path.join('./glove.6B/glove.6B.%sd.txt' % EMBEDDING_DIM)) as file:\n",
    "    for line in file:\n",
    "        values = line.split()\n",
    "        word = values[0]\n",
    "        embedding_vector = np.asarray(values[1:], dtype='float32')\n",
    "        word2vec[word] = embedding_vector\n",
    "print('A total of %s word embeddings were founded.' % len(word2vec))\n",
    "\n",
    "train_raw = pd.read_csv(\"./data/train.csv\")\n",
    "label_names = [\"toxic\", \"severe_toxic\", \"obscene\", \"threat\", \"insult\", \"identity_hate\"]\n",
    "targets = train_raw[label_names].values"
   ]
  },
  {
   "cell_type": "markdown",
   "metadata": {},
   "source": [
    "Have a look at the raw data"
   ]
  },
  {
   "cell_type": "code",
   "execution_count": 3,
   "metadata": {},
   "outputs": [
    {
     "name": "stdout",
     "output_type": "stream",
     "text": [
      "   Target   Count\n",
      "0  Normal  144277\n",
      "1   Toxic   15294\n"
     ]
    }
   ],
   "source": [
    "target = (\n",
    "    train_raw['toxic']\n",
    "    .value_counts()\n",
    "    .to_frame()\n",
    "    .reset_index()\n",
    "    .rename(columns={'index':'Target', 'toxic':'Count'})\n",
    "    .replace([0,1], ['Normal', 'Toxic'])    \n",
    "          ) \n",
    "\n",
    "print(target)"
   ]
  },
  {
   "cell_type": "markdown",
   "metadata": {},
   "source": [
    "### Cleanse the data"
   ]
  },
  {
   "cell_type": "markdown",
   "metadata": {},
   "source": [
    "Cleanse the data, which is done by the class 'TextDataPreprocessor' written in 'preprocessing.py'. Inspect how many words in the vocabulary as well as in all the texts have available embeddings before and after the cleansing process. We can see that there's a huge increase of the percentage of words that find corresponding embeddings.  "
   ]
  },
  {
   "cell_type": "code",
   "execution_count": 4,
   "metadata": {
    "scrolled": false
   },
   "outputs": [
    {
     "name": "stdout",
     "output_type": "stream",
     "text": [
      "---------------------\n",
      "|Before cleansing...|\n",
      "---------------------\n",
      "Embeddings founded for 10.82% of vocab\n",
      "Embeddings founded for 71.92% of all texts\n",
      "oov word examples:\n",
      "[('I', 183930), ('The', 39578), ('If', 25463), ('You', 22107), (\"don't\", 20298), ('Wikipedia', 17585), (\"I'm\", 16519), ('It', 16414), ('Please', 15994), ('This', 15772)]\n",
      "---------------------\n",
      "|Cleansing corpus...|\n",
      "---------------------\n",
      "--------------------\n",
      "|After cleansing...|\n",
      "--------------------\n",
      "Embeddings founded for 45.86% of vocab\n",
      "Embeddings founded for 97.52% of all texts\n",
      "oov word examples:\n",
      "[('•', 5299), (\"wikipedia's\", 2706), ('contribs', 2634), ('npov', 1867), ('wikiproject', 1842), (\"article's\", 1614), ('tildes', 1436), ('wikipedian', 1270), ('barnstar', 1032), (\"''''''\", 1021)]\n"
     ]
    }
   ],
   "source": [
    "MAX_NUM_WORDS = 20000\n",
    "MIN_SEQ_LENGTH = 100\n",
    "\n",
    "print('-'*21 + '\\n|Before cleansing...|\\n' + '-'*21)\n",
    "vocab = corpus_to_vocab(train_raw['comment_text'])\n",
    "oov_words = embedding_coverage(vocab, word2vec)\n",
    "print(f\"oov word examples:\\n{oov_words[:10]}\")\n",
    "\n",
    "print('-'*21 + '\\n|Cleansing corpus...|\\n' + '-'*21)\n",
    "train = pd.DataFrame()\n",
    "preprocessor = TextDataPreprocessor(max_num_words = MAX_NUM_WORDS, min_seq_length = MIN_SEQ_LENGTH)\n",
    "train['comment_text'] = preprocessor.cleanse_corpus(train_raw['comment_text'])\n",
    "\n",
    "print('-'*20 + '\\n|After cleansing...|\\n' + '-'*20)\n",
    "vocab = corpus_to_vocab(train['comment_text'])\n",
    "oov_words = embedding_coverage(vocab, word2vec) \n",
    "print(f\"oov word examples:\\n{oov_words[:10]}\")\n"
   ]
  },
  {
   "cell_type": "markdown",
   "metadata": {},
   "source": [
    "### Tokenization and build data structures required by further NLP tasks"
   ]
  },
  {
   "cell_type": "markdown",
   "metadata": {},
   "source": [
    "Fit the preprocessor on the cleansed corpus."
   ]
  },
  {
   "cell_type": "code",
   "execution_count": 5,
   "metadata": {},
   "outputs": [],
   "source": [
    "preprocessor.fit_on_corpus(train['comment_text'])\n",
    "embedding_matrix = preprocessor.build_embedding_matrix(EMBEDDING_DIM, word2vec)"
   ]
  },
  {
   "cell_type": "markdown",
   "metadata": {},
   "source": [
    "Inspect the outputs."
   ]
  },
  {
   "cell_type": "code",
   "execution_count": 6,
   "metadata": {},
   "outputs": [
    {
     "name": "stdout",
     "output_type": "stream",
     "text": [
      "The most frequent words:\n",
      "[('the', 496580), ('to', 299016), ('i', 242096), ('of', 225313), ('and', 224198), ('you', 223841), ('a', 215746), ('is', 215682), ('that', 161662), ('not', 151265)]\n",
      "~~~~~~~~~~~~~~~~~~~~~~~~~~~~~~~~~~~~~~~~~~~~~~~~~~~~~~~~~~~~~~~~~~~~~~~~~~~~~~~~~~~~~~~~~~~~~~~~~~~~\n",
      "The word-to-index map:\n",
      "the: 1\n",
      "to: 2\n",
      "i: 3\n",
      "of: 4\n",
      "and: 5\n",
      "you: 6\n",
      "a: 7\n",
      "is: 8\n",
      "that: 9\n",
      "not: 10\n",
      "~~~~~~~~~~~~~~~~~~~~~~~~~~~~~~~~~~~~~~~~~~~~~~~~~~~~~~~~~~~~~~~~~~~~~~~~~~~~~~~~~~~~~~~~~~~~~~~~~~~~\n",
      "The shape of the embedding matrix:\n",
      "(20000, 50)\n"
     ]
    }
   ],
   "source": [
    "print(f\"The most frequent words:\\n{preprocessor.sorted_vocab[:10]}\")\n",
    "print(\"~\"*100)\n",
    "print(\"The word-to-index map:\")\n",
    "for word, idx in list(preprocessor.word2idx.items())[:10]:\n",
    "    print(f\"{word}: {idx}\")\n",
    "print(\"~\"*100)\n",
    "print(\"The shape of the embedding matrix:\")\n",
    "print(embedding_matrix.shape)"
   ]
  },
  {
   "cell_type": "markdown",
   "metadata": {},
   "source": [
    "Check out some properties of the sequences"
   ]
  },
  {
   "cell_type": "code",
   "execution_count": 7,
   "metadata": {},
   "outputs": [
    {
     "name": "stdout",
     "output_type": "stream",
     "text": [
      "Before padding:\n",
      "Max sequence length: 1400\n",
      "Min sequence length: 0\n",
      "Median sequence length: 35\n",
      "~~~~~~~~~~~~~~~~~~~~~~~~~~~~~~~~~~~~~~~~~~~~~~~~~~~~~~~~~~~~~~~~~~~~~~~~~~~~~~~~~~~~~~~~~~~~~~~~~~~~\n",
      "After padding:\n",
      "Max sequence length: 100\n",
      "Min sequence length: 100\n",
      "Median sequence length: 100\n"
     ]
    }
   ],
   "source": [
    "print('Before padding:')\n",
    "print('Max sequence length: %i' % max(len(s) for s in preprocessor.sequences))\n",
    "print('Min sequence length: %i' % min(len(s) for s in preprocessor.sequences))\n",
    "seq_length = [len(s) for s in preprocessor.sequences]\n",
    "print('Median sequence length: %i' %np.median(seq_length))\n",
    "\n",
    "print('~'*100)\n",
    "\n",
    "print('After padding:')\n",
    "print('Max sequence length: %i' % max(len(s) for s in preprocessor.padded_sequences))\n",
    "print('Min sequence length: %i' % min(len(s) for s in preprocessor.padded_sequences))\n",
    "seq_length = [len(s) for s in preprocessor.padded_sequences]\n",
    "print('Median sequence length: %i' %np.median(seq_length))"
   ]
  },
  {
   "cell_type": "markdown",
   "metadata": {},
   "source": [
    "Check out how many unique tokens we found in the corpus"
   ]
  },
  {
   "cell_type": "code",
   "execution_count": 8,
   "metadata": {},
   "outputs": [
    {
     "name": "stdout",
     "output_type": "stream",
     "text": [
      "Found 208509 unique tokens\n"
     ]
    }
   ],
   "source": [
    "# Word -> integer mapping\n",
    "word2idx = preprocessor.word2idx\n",
    "print('Found %i unique tokens' %len(word2idx))"
   ]
  },
  {
   "cell_type": "markdown",
   "metadata": {},
   "source": [
    "## Build the model"
   ]
  },
  {
   "cell_type": "markdown",
   "metadata": {},
   "source": [
    "Here we build a model composed of a bidirectional GRU with the attention mechanism to rate the toxicities of the comments."
   ]
  },
  {
   "cell_type": "markdown",
   "metadata": {},
   "source": [
    "### Import libraries"
   ]
  },
  {
   "cell_type": "code",
   "execution_count": 9,
   "metadata": {},
   "outputs": [],
   "source": [
    "import tensorflow as tf\n",
    "from keras.preprocessing.text import Tokenizer\n",
    "from keras.preprocessing.sequence import pad_sequences\n",
    "from keras.layers import Concatenate, Dense, Input, GlobalMaxPooling1D, SpatialDropout1D, GlobalAveragePooling1D, GRU\n",
    "from keras.layers import MaxPooling1D, Embedding, LSTM, Bidirectional, Dropout, concatenate, LayerNormalization\n",
    "from keras.models import Model\n",
    "from keras.callbacks import ModelCheckpoint, EarlyStopping\n",
    "from keras.layers import Layer, InputSpec\n",
    "from keras import initializers, regularizers, constraints, optimizers, layers\n",
    "import keras.backend as K"
   ]
  },
  {
   "cell_type": "markdown",
   "metadata": {},
   "source": [
    "### Write a  ```AttentionLayer``` class"
   ]
  },
  {
   "cell_type": "code",
   "execution_count": 10,
   "metadata": {},
   "outputs": [],
   "source": [
    "class AttentionLayer(tf.keras.Model):\n",
    "    \"\"\"\n",
    "            Attention scores: e = tanh(W1*values + W2*query)\n",
    "            Attention weights: alpha = softmax(e)\n",
    "            Attention output/context vector: a = sum(alpha*values)\n",
    "    \"\"\"\n",
    "    def __init__(self, units):\n",
    "        super().__init__()\n",
    "        self.W_values = Dense(units)\n",
    "        self.W_query = Dense(units)\n",
    "        self.V = Dense(1)\n",
    "\n",
    "    def call(self, values, query):\n",
    "        \"\"\"\n",
    "                values: (batch_size, seq_len, concat_hidden_dim)\n",
    "                query: (batch_size, concat_hidden_dim) -> (batch_size, 1, concat_hidden_dim)\n",
    "                scores: (batch_size, seq_len, 1)\n",
    "                attention_weights: (batch_size, seq_len, 1)\n",
    "                context_vector: (batch_size, concat_hidden_dim)\n",
    "        \"\"\"\n",
    "        query_expanded = tf.expand_dims(query, 1)\n",
    "        scores = self.V(tf.nn.tanh(self.W_values(values) + self.W_query(query_expanded)))  # Broadcasting\n",
    "        attention_weights = tf.nn.softmax(scores, axis=1)\n",
    "        context_vector = attention_weights * values  # Broadcasting\n",
    "        context_vector = tf.reduce_sum(context_vector, axis=1)\n",
    "\n",
    "        return context_vector, attention_weights\n"
   ]
  },
  {
   "cell_type": "markdown",
   "metadata": {},
   "source": [
    "### Build up the model achitecture"
   ]
  },
  {
   "cell_type": "code",
   "execution_count": 11,
   "metadata": {
    "scrolled": true
   },
   "outputs": [
    {
     "name": "stdout",
     "output_type": "stream",
     "text": [
      "Building model...\n",
      "Model: \"model\"\n",
      "__________________________________________________________________________________________________\n",
      "Layer (type)                    Output Shape         Param #     Connected to                     \n",
      "==================================================================================================\n",
      "input_1 (InputLayer)            [(None, 100)]        0                                            \n",
      "__________________________________________________________________________________________________\n",
      "embedding (Embedding)           (None, 100, 50)      1000000     input_1[0][0]                    \n",
      "__________________________________________________________________________________________________\n",
      "spatial_dropout1d (SpatialDropo (None, 100, 50)      0           embedding[0][0]                  \n",
      "__________________________________________________________________________________________________\n",
      "bidirectional (Bidirectional)   [(None, 100, 128), ( 44544       spatial_dropout1d[0][0]          \n",
      "__________________________________________________________________________________________________\n",
      "concatenate (Concatenate)       (None, 128)          0           bidirectional[0][1]              \n",
      "                                                                 bidirectional[0][2]              \n",
      "__________________________________________________________________________________________________\n",
      "tf.expand_dims (TFOpLambda)     (None, 1, 128)       0           concatenate[0][0]                \n",
      "__________________________________________________________________________________________________\n",
      "dense (Dense)                   (None, 100, 10)      1290        bidirectional[0][0]              \n",
      "__________________________________________________________________________________________________\n",
      "dense_1 (Dense)                 (None, 1, 10)        1290        tf.expand_dims[0][0]             \n",
      "__________________________________________________________________________________________________\n",
      "tf.__operators__.add (TFOpLambd (None, 100, 10)      0           dense[0][0]                      \n",
      "                                                                 dense_1[0][0]                    \n",
      "__________________________________________________________________________________________________\n",
      "tf.math.tanh (TFOpLambda)       (None, 100, 10)      0           tf.__operators__.add[0][0]       \n",
      "__________________________________________________________________________________________________\n",
      "dense_2 (Dense)                 (None, 100, 1)       11          tf.math.tanh[0][0]               \n",
      "__________________________________________________________________________________________________\n",
      "tf.nn.softmax (TFOpLambda)      (None, 100, 1)       0           dense_2[0][0]                    \n",
      "__________________________________________________________________________________________________\n",
      "tf.math.multiply (TFOpLambda)   (None, 100, 128)     0           tf.nn.softmax[0][0]              \n",
      "                                                                 bidirectional[0][0]              \n",
      "__________________________________________________________________________________________________\n",
      "tf.math.reduce_sum (TFOpLambda) (None, 128)          0           tf.math.multiply[0][0]           \n",
      "__________________________________________________________________________________________________\n",
      "dense_3 (Dense)                 (None, 64)           8256        tf.math.reduce_sum[0][0]         \n",
      "__________________________________________________________________________________________________\n",
      "dropout (Dropout)               (None, 64)           0           dense_3[0][0]                    \n",
      "__________________________________________________________________________________________________\n",
      "dense_4 (Dense)                 (None, 6)            390         dropout[0][0]                    \n",
      "==================================================================================================\n",
      "Total params: 1,055,781\n",
      "Trainable params: 55,781\n",
      "Non-trainable params: 1,000,000\n",
      "__________________________________________________________________________________________________\n"
     ]
    }
   ],
   "source": [
    "################# BUILDING MODEL ###################\n",
    "\n",
    "BATCH_SIZE = 256\n",
    "EPOCHS = 10\n",
    "VALIDATION_SPLIT = 0.1\n",
    "\n",
    "embedding_layer = Embedding(\n",
    "  preprocessor.num_words,\n",
    "  EMBEDDING_DIM,\n",
    "  weights=[embedding_matrix],\n",
    "  input_length=MIN_SEQ_LENGTH,\n",
    "  trainable=False\n",
    ")\n",
    "    \n",
    "# Building model\n",
    "print('Building model...')\n",
    "inputs = Input(shape=(MIN_SEQ_LENGTH,))\n",
    "x = embedding_layer(inputs)\n",
    "x = SpatialDropout1D(0.1)(x)\n",
    "values, query_forward, query_backward = Bidirectional(GRU(64, return_sequences=True, return_state=True))(x)\n",
    "query = Concatenate()([query_forward, query_backward])\n",
    "x, _ = AttentionLayer(10)(values, query)\n",
    "\n",
    "x = Dense(64, activation='relu')(x)\n",
    "x = Dropout(0.2)(x)\n",
    "outputs = Dense(6, activation='sigmoid')(x)\n",
    "\n",
    "model = Model(inputs = inputs, outputs = outputs)\n",
    "model.compile(loss='binary_crossentropy', optimizer='adam', metrics=['binary_accuracy'])\n",
    "\n",
    "# Model summary\n",
    "model.summary()\n"
   ]
  },
  {
   "cell_type": "markdown",
   "metadata": {},
   "source": [
    "## Train the model"
   ]
  },
  {
   "cell_type": "markdown",
   "metadata": {},
   "source": [
    "### Fit the model to the training data"
   ]
  },
  {
   "cell_type": "code",
   "execution_count": 12,
   "metadata": {},
   "outputs": [
    {
     "name": "stdout",
     "output_type": "stream",
     "text": [
      "Fitting model...\n",
      "Epoch 1/10\n",
      "561/561 [==============================] - 144s 210ms/step - loss: 0.1525 - binary_accuracy: 0.9537 - val_loss: 0.0609 - val_binary_accuracy: 0.9787\n",
      "\n",
      "Epoch 00001: val_loss improved from inf to 0.06092, saving model to ./model/model_best.h5\n",
      "Epoch 2/10\n",
      "561/561 [==============================] - 122s 217ms/step - loss: 0.0614 - binary_accuracy: 0.9789 - val_loss: 0.0561 - val_binary_accuracy: 0.9803\n",
      "\n",
      "Epoch 00002: val_loss improved from 0.06092 to 0.05613, saving model to ./model/model_best.h5\n",
      "Epoch 3/10\n",
      "561/561 [==============================] - 120s 213ms/step - loss: 0.0550 - binary_accuracy: 0.9807 - val_loss: 0.0536 - val_binary_accuracy: 0.9808\n",
      "\n",
      "Epoch 00003: val_loss improved from 0.05613 to 0.05355, saving model to ./model/model_best.h5\n",
      "Epoch 4/10\n",
      "561/561 [==============================] - 117s 208ms/step - loss: 0.0541 - binary_accuracy: 0.9807 - val_loss: 0.0511 - val_binary_accuracy: 0.9816\n",
      "\n",
      "Epoch 00004: val_loss improved from 0.05355 to 0.05113, saving model to ./model/model_best.h5\n",
      "Epoch 5/10\n",
      "561/561 [==============================] - 109s 195ms/step - loss: 0.0514 - binary_accuracy: 0.9815 - val_loss: 0.0507 - val_binary_accuracy: 0.9818\n",
      "\n",
      "Epoch 00005: val_loss improved from 0.05113 to 0.05068, saving model to ./model/model_best.h5\n",
      "Epoch 6/10\n",
      "561/561 [==============================] - 111s 198ms/step - loss: 0.0493 - binary_accuracy: 0.9822 - val_loss: 0.0489 - val_binary_accuracy: 0.9822\n",
      "\n",
      "Epoch 00006: val_loss improved from 0.05068 to 0.04885, saving model to ./model/model_best.h5\n",
      "Epoch 7/10\n",
      "561/561 [==============================] - 115s 206ms/step - loss: 0.0472 - binary_accuracy: 0.9828 - val_loss: 0.0488 - val_binary_accuracy: 0.9822\n",
      "\n",
      "Epoch 00007: val_loss improved from 0.04885 to 0.04876, saving model to ./model/model_best.h5\n",
      "Epoch 8/10\n",
      "561/561 [==============================] - 116s 207ms/step - loss: 0.0457 - binary_accuracy: 0.9832 - val_loss: 0.0484 - val_binary_accuracy: 0.9821\n",
      "\n",
      "Epoch 00008: val_loss improved from 0.04876 to 0.04841, saving model to ./model/model_best.h5\n",
      "Epoch 9/10\n",
      "561/561 [==============================] - 115s 205ms/step - loss: 0.0459 - binary_accuracy: 0.9832 - val_loss: 0.0472 - val_binary_accuracy: 0.9823\n",
      "\n",
      "Epoch 00009: val_loss improved from 0.04841 to 0.04724, saving model to ./model/model_best.h5\n",
      "Epoch 10/10\n",
      "561/561 [==============================] - 111s 197ms/step - loss: 0.0450 - binary_accuracy: 0.9833 - val_loss: 0.0477 - val_binary_accuracy: 0.9824\n",
      "\n",
      "Epoch 00010: val_loss did not improve from 0.04724\n"
     ]
    }
   ],
   "source": [
    "################# FITTING MODEL ###################\n",
    "\n",
    "print('Fitting model...')\n",
    "model_path = os.path.join(\"./model\",'model_best.h5')\n",
    "checkpoint = ModelCheckpoint(model_path, monitor='val_loss', verbose=1, save_best_only=True, mode='min')\n",
    "early_stopping = EarlyStopping(monitor='val_loss', patience=2, mode='min')\n",
    "\n",
    "callbacks_list = [checkpoint, early_stopping]\n",
    "history = model.fit(np.array(preprocessor.padded_sequences), np.array(targets), batch_size=BATCH_SIZE, epochs=EPOCHS, validation_split=VALIDATION_SPLIT, callbacks=callbacks_list)"
   ]
  },
  {
   "cell_type": "markdown",
   "metadata": {},
   "source": [
    "### Display the training history"
   ]
  },
  {
   "cell_type": "code",
   "execution_count": 13,
   "metadata": {},
   "outputs": [
    {
     "name": "stdout",
     "output_type": "stream",
     "text": [
      "Final training binary accuracy: 0.9833\n",
      "Final validating binary accuracy: 0.9824\n"
     ]
    },
    {
     "data": {
      "image/png": "[encoded data removed]",
      "text/plain": [
       "<Figure size 432x288 with 1 Axes>"
      ]
     },
     "metadata": {
      "needs_background": "light"
     },
     "output_type": "display_data"
    },
    {
     "data": {
      "image/png": "[encoded data removed]",
      "text/plain": [
       "<Figure size 432x288 with 1 Axes>"
      ]
     },
     "metadata": {
      "needs_background": "light"
     },
     "output_type": "display_data"
    }
   ],
   "source": [
    "# Print result\n",
    "train_acc = max(history.history['binary_accuracy'])\n",
    "val_acc = max(history.history['val_binary_accuracy'])\n",
    "print('Final training binary accuracy: %.4f' %train_acc)\n",
    "print('Final validating binary accuracy: %.4f' %val_acc)\n",
    "\n",
    "plt.figure()\n",
    "plt.plot(history.history[\"loss\"], label=\"loss\")\n",
    "plt.plot(history.history[\"val_loss\"], label=\"val_loss\")\n",
    "plt.title(\"Loss\")\n",
    "plt.xlabel(\"Epoch #\")\n",
    "plt.ylabel(\"Loss\")\n",
    "plt.legend(loc=\"lower left\")\n",
    "plt.tight_layout()\n",
    "\n",
    "plt.figure()\n",
    "plt.plot(history.history[\"binary_accuracy\"], label=\"acc\")\n",
    "plt.plot(history.history[\"val_binary_accuracy\"], label=\"val_acc\")\n",
    "plt.title(\"Class Label Binary Accuracy\")\n",
    "plt.xlabel(\"Epoch #\")\n",
    "plt.ylabel(\"Binary Accuracy\")\n",
    "plt.legend(loc=\"lower left\")\n",
    "plt.tight_layout()"
   ]
  },
  {
   "cell_type": "markdown",
   "metadata": {},
   "source": [
    "### Try to predict on some comments"
   ]
  },
  {
   "cell_type": "code",
   "execution_count": 14,
   "metadata": {},
   "outputs": [],
   "source": [
    "def predict_toxic(texts): \n",
    "    texts_cleaned = preprocessor.cleanse_corpus(texts)\n",
    "        \n",
    "    seqs = preprocessor.get_sequences_of_test_texts(texts_cleaned)\n",
    "     \n",
    "    # Prediction\n",
    "    predicts = model.predict(seqs)\n",
    "    return predicts.T"
   ]
  },
  {
   "cell_type": "code",
   "execution_count": 15,
   "metadata": {},
   "outputs": [
    {
     "name": "stdout",
     "output_type": "stream",
     "text": [
      "~~~~~~~~~~~~~~~~~~~~~~~~~~~~~~~~~~~~~~~~~~~~~~~~~~~~~~~~~~~~~~~~~~~~~~~~~~~~~~~~~~~~~~~~~~~~~~~~~~~~\n",
      "\"Fuck yourself you son of a bitch\":\n",
      "Toxic score: 0.9999\n",
      "Severe toxic score: 0.4801\n",
      "Obsence score: 0.9961\n",
      "Threat score: 0.0153\n",
      "Insult score: 0.9535\n",
      "Identity hate score: 0.0444\n",
      "~~~~~~~~~~~~~~~~~~~~~~~~~~~~~~~~~~~~~~~~~~~~~~~~~~~~~~~~~~~~~~~~~~~~~~~~~~~~~~~~~~~~~~~~~~~~~~~~~~~~\n",
      "\"I swear I'm gonna kill you\":\n",
      "Toxic score: 0.9526\n",
      "Severe toxic score: 0.0478\n",
      "Obsence score: 0.0881\n",
      "Threat score: 0.7690\n",
      "Insult score: 0.1375\n",
      "Identity hate score: 0.0027\n",
      "~~~~~~~~~~~~~~~~~~~~~~~~~~~~~~~~~~~~~~~~~~~~~~~~~~~~~~~~~~~~~~~~~~~~~~~~~~~~~~~~~~~~~~~~~~~~~~~~~~~~\n",
      "\"I think that's fine\":\n",
      "Toxic score: 0.0035\n",
      "Severe toxic score: 0.0000\n",
      "Obsence score: 0.0003\n",
      "Threat score: 0.0000\n",
      "Insult score: 0.0006\n",
      "Identity hate score: 0.0000\n"
     ]
    }
   ],
   "source": [
    "input_texts = [\"Fuck yourself you son of a bitch\", \"I swear I'm gonna kill you\", \"I think that's fine\"]\n",
    "\n",
    "toxic, severe_toxic, obsence, threat, insult, identity_hate = predict_toxic(input_texts)\n",
    "\n",
    "predictions = {}\n",
    "predictions['Toxic score'] = toxic\n",
    "predictions['Severe toxic score'] = severe_toxic\n",
    "predictions['Obsence score'] = obsence\n",
    "predictions['Threat score'] = threat\n",
    "predictions['Insult score'] = insult\n",
    "predictions['Identity hate score'] = identity_hate\n",
    "\n",
    "for i in range(len(input_texts)):\n",
    "    print('~'*100)\n",
    "    print(f\"\\\"{input_texts[i]}\\\":\")\n",
    "    for label, score in predictions.items():\n",
    "        print(f\"{label}: {score[i]:.4f}\")"
   ]
  },
  {
   "cell_type": "markdown",
   "metadata": {},
   "source": [
    "### The trained model can be loaded from the disk"
   ]
  },
  {
   "cell_type": "markdown",
   "metadata": {},
   "source": [
    "Load the model"
   ]
  },
  {
   "cell_type": "code",
   "execution_count": 16,
   "metadata": {},
   "outputs": [],
   "source": [
    "from tensorflow.keras.models import load_model"
   ]
  },
  {
   "cell_type": "code",
   "execution_count": 17,
   "metadata": {},
   "outputs": [],
   "source": [
    "model = load_model('./model/model_best.h5')"
   ]
  },
  {
   "cell_type": "markdown",
   "metadata": {},
   "source": [
    "## Evaluate the model with test data"
   ]
  },
  {
   "cell_type": "markdown",
   "metadata": {},
   "source": [
    "### Load and preprocess the test data"
   ]
  },
  {
   "cell_type": "code",
   "execution_count": 18,
   "metadata": {},
   "outputs": [],
   "source": [
    "test_raw = pd.read_csv(\"./data/test.csv\")\n",
    "test_labels = pd.read_csv(\"./data/test_labels.csv\")\n",
    "test_raw = pd.merge(test_raw, test_labels, how='left', on='id')\n",
    "test_raw = test_raw.drop(test_raw[test_raw['toxic']==-1].index)\n",
    "test_raw.index = range(len(test_raw))\n",
    "\n",
    "label_names = [\"toxic\", \"severe_toxic\", \"obscene\", \"threat\", \"insult\", \"identity_hate\"]\n",
    "test_targets = test_raw[label_names].values"
   ]
  },
  {
   "cell_type": "markdown",
   "metadata": {},
   "source": [
    "Take a look at the test data"
   ]
  },
  {
   "cell_type": "code",
   "execution_count": 19,
   "metadata": {},
   "outputs": [
    {
     "name": "stdout",
     "output_type": "stream",
     "text": [
      "                 id                                       comment_text  toxic  \\\n",
      "0  0001ea8717f6de06  Thank you for understanding. I think very high...      0   \n",
      "1  000247e83dcc1211                   :Dear god this site is horrible.      0   \n",
      "2  0002f87b16116a7f  \"::: Somebody will invariably try to add Relig...      0   \n",
      "3  0003e1cccfd5a40a  \" \\n\\n It says it right there that it IS a typ...      0   \n",
      "4  00059ace3e3e9a53  \" \\n\\n == Before adding a new product to the l...      0   \n",
      "\n",
      "   severe_toxic  obscene  threat  insult  identity_hate  \n",
      "0             0        0       0       0              0  \n",
      "1             0        0       0       0              0  \n",
      "2             0        0       0       0              0  \n",
      "3             0        0       0       0              0  \n",
      "4             0        0       0       0              0  \n",
      "63978\n",
      "0        Thank you for understanding. I think very high...\n",
      "1                         :Dear god this site is horrible.\n",
      "2        \"::: Somebody will invariably try to add Relig...\n",
      "3        \" \\n\\n It says it right there that it IS a typ...\n",
      "4        \" \\n\\n == Before adding a new product to the l...\n",
      "                               ...                        \n",
      "63973    :Jerome, I see you never got around to this…! ...\n",
      "63974    ==Lucky bastard== \\n http://wikimediafoundatio...\n",
      "63975    ==shame on you all!!!== \\n\\n You want to speak...\n",
      "63976    MEL GIBSON IS A NAZI BITCH WHO MAKES SHITTY MO...\n",
      "63977    \" \\n\\n == Unicorn lair discovery == \\n\\n Suppo...\n",
      "Name: comment_text, Length: 63978, dtype: object\n"
     ]
    }
   ],
   "source": [
    "print(test_raw.head())\n",
    "print(len(test_targets))\n",
    "print(test_raw['comment_text'])"
   ]
  },
  {
   "cell_type": "markdown",
   "metadata": {},
   "source": [
    "Cleanse the data. \n",
    "\n",
    "This time we check how many tokens in the test data are covered by the train vocab before and after the cleansing."
   ]
  },
  {
   "cell_type": "code",
   "execution_count": 20,
   "metadata": {},
   "outputs": [
    {
     "name": "stdout",
     "output_type": "stream",
     "text": [
      "---------------------\n",
      "|Before cleansing...|\n",
      "---------------------\n",
      "Embeddings founded for 12.21% of vocab\n",
      "Embeddings founded for 67.84% of all texts\n",
      "oov word examples:\n",
      "[('I', 58698), ('\"', 33393), ('==', 31155), ('The', 14136), ('-', 9794), ('If', 8512), (\"I'm\", 6253), ('You', 6135), ('It', 5963), ('This', 5760)]\n",
      "---------------------\n",
      "|Cleansing corpus...|\n",
      "---------------------\n",
      "--------------------\n",
      "|After cleansing...|\n",
      "--------------------\n",
      "Embeddings founded for 42.76% of vocab\n",
      "Embeddings founded for 96.19% of all texts\n",
      "oov word examples:\n",
      "[('I', 58698), ('\"', 33393), ('==', 31155), ('The', 14136), ('-', 9794), ('If', 8512), (\"I'm\", 6253), ('You', 6135), ('It', 5963), ('This', 5760)]\n"
     ]
    }
   ],
   "source": [
    "print('-'*21 + '\\n|Before cleansing...|\\n' + '-'*21)\n",
    "vocab_test = corpus_to_vocab(test_raw['comment_text'])\n",
    "oov_words_text = embedding_coverage(vocab_test, preprocessor.word2idx)\n",
    "print(f\"oov word examples:\\n{oov_words_text[:10]}\")\n",
    "\n",
    "print('-'*21 + '\\n|Cleansing corpus...|\\n' + '-'*21)\n",
    "test = pd.DataFrame()\n",
    "test['comment_text'] = preprocessor.cleanse_corpus(test_raw['comment_text'])\n",
    "\n",
    "print('-'*20 + '\\n|After cleansing...|\\n' + '-'*20)\n",
    "vocab_test = corpus_to_vocab(test['comment_text'])\n",
    "oov_words_test = embedding_coverage(vocab_test, preprocessor.word2idx) \n",
    "print(f\"oov word examples:\\n{oov_words_text[:10]}\")"
   ]
  },
  {
   "cell_type": "markdown",
   "metadata": {},
   "source": [
    "Get the sequences of test texts"
   ]
  },
  {
   "cell_type": "code",
   "execution_count": 21,
   "metadata": {},
   "outputs": [
    {
     "name": "stdout",
     "output_type": "stream",
     "text": [
      "63978\n"
     ]
    }
   ],
   "source": [
    "seqs_test = preprocessor.get_sequences_of_test_texts(test['comment_text'])\n",
    "print(len(seqs_test))"
   ]
  },
  {
   "cell_type": "markdown",
   "metadata": {},
   "source": [
    "### Evaluate the model by the test data"
   ]
  },
  {
   "cell_type": "code",
   "execution_count": 22,
   "metadata": {},
   "outputs": [
    {
     "name": "stdout",
     "output_type": "stream",
     "text": [
      "2000/2000 [==============================] - 21s 10ms/step - loss: 0.0719 - binary_accuracy: 0.9714\n",
      "Test loss:  0.0719\n",
      "Test binary accuracy:  0.9714\n"
     ]
    }
   ],
   "source": [
    "score = model.evaluate(np.array(seqs_test), np.array(test_targets))\n",
    "print(f'Test loss: {score[0]: .4f}') \n",
    "print(f'Test binary accuracy: {score[1]: .4f}')"
   ]
  },
  {
   "cell_type": "markdown",
   "metadata": {},
   "source": [
    "## Remark"
   ]
  },
  {
   "cell_type": "markdown",
   "metadata": {},
   "source": [
    "Let's understand the metrics. The binary accuracy used to moniter and evaluate the model performance calculates the accuracy of the predictions for all entries (toxicity categories) of all data samples. This can be illustrated by the following simply example:"
   ]
  },
  {
   "cell_type": "code",
   "execution_count": 23,
   "metadata": {},
   "outputs": [],
   "source": [
    "from keras.metrics import binary_accuracy"
   ]
  },
  {
   "cell_type": "code",
   "execution_count": 24,
   "metadata": {},
   "outputs": [
    {
     "name": "stdout",
     "output_type": "stream",
     "text": [
      "tf.Tensor(0.6666667, shape=(), dtype=float32)\n"
     ]
    }
   ],
   "source": [
    "labels = np.array([[0, 1, 0, 1, 0, 0], [1, 1, 0, 0, 1, 1]], dtype = 'float32')\n",
    "results = np.array([[0.1, 0.2, 0.9, 0.6, 0.6, 0.7], [0.8, 0.9, 0.1, 0.4, 0.7, 0.7]], dtype = 'float32')\n",
    "\n",
    "print(tf.reduce_mean(binary_accuracy(labels, results)))"
   ]
  },
  {
   "cell_type": "markdown",
   "metadata": {},
   "source": [
    "Because we have 12 entries in total and 8 of them get predicted correctly, which leads to the result of 8/12 = 0.6666667."
   ]
  },
  {
   "cell_type": "markdown",
   "metadata": {},
   "source": [
    "This is a quite harsh metrics to use. Nonetheless, our rather simple model achieved 0.9714 on the test data, which is quite good. Other metrics may be preferred according to the purpose of the specific task. Further achitecture and hyperparameter tuning and using word embeddings with higher embedding dimension could possibly lead to better performance."
   ]
  },
  {
   "cell_type": "code",
   "execution_count": null,
   "metadata": {},
   "outputs": [],
   "source": []
  }
 ],
 "metadata": {
  "colab": {
   "authorship_tag": "ABX9TyMsr5cT4nGEybYESEmFAYWl",
   "collapsed_sections": [],
   "name": "BBox Regression.ipynb",
   "provenance": []
  },
  "kernelspec": {
   "display_name": "Python 3",
   "language": "python",
   "name": "python3"
  },
  "language_info": {
   "codemirror_mode": {
    "name": "ipython",
    "version": 3
   },
   "file_extension": ".py",
   "mimetype": "text/x-python",
   "name": "python",
   "nbconvert_exporter": "python",
   "pygments_lexer": "ipython3",
   "version": "3.7.2"
  }
 },
 "nbformat": 4,
 "nbformat_minor": 1
}
