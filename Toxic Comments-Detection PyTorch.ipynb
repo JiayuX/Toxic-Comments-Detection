{
 "cells": [
  {
   "cell_type": "markdown",
   "metadata": {},
   "source": [
    "# Toxic Comments-Detection (PyTorch)"
   ]
  },
  {
   "cell_type": "markdown",
   "metadata": {
    "id": "LsML57Id8g4J"
   },
   "source": [
    "## Data preparation & preprocessing"
   ]
  },
  {
   "cell_type": "markdown",
   "metadata": {},
   "source": [
    "### Import libraries"
   ]
  },
  {
   "cell_type": "code",
   "execution_count": 1,
   "metadata": {
    "executionInfo": {
     "elapsed": 270,
     "status": "ok",
     "timestamp": 1640667650046,
     "user": {
      "displayName": "Dennis X",
      "photoUrl": "https://lh3.googleusercontent.com/a/default-user=s64",
      "userId": "07673593424094128995"
     },
     "user_tz": 300
    },
    "id": "Mb-BmSXK0od4"
   },
   "outputs": [],
   "source": [
    "import os\n",
    "import sys\n",
    "import pandas as pd\n",
    "import numpy as np\n",
    "import matplotlib.pyplot as plt\n",
    "from preprocessing import *"
   ]
  },
  {
   "cell_type": "markdown",
   "metadata": {},
   "source": [
    "### Load the pretrained word embeddings & dataset"
   ]
  },
  {
   "cell_type": "markdown",
   "metadata": {},
   "source": [
    "We load the pretrained GloVe (Jeffrey Pennington, Richard Socher, and Christopher D. Manning. 2014.) as the word embeddings and perform transfer learning."
   ]
  },
  {
   "cell_type": "code",
   "execution_count": 2,
   "metadata": {},
   "outputs": [
    {
     "name": "stdout",
     "output_type": "stream",
     "text": [
      "Loading word embeddings...\n",
      "A total of 400000 word embeddings were founded.\n"
     ]
    }
   ],
   "source": [
    "EMBEDDING_DIM = 50\n",
    "\n",
    "print('Loading word embeddings...')\n",
    "word2vec = {}\n",
    "with open(os.path.join('./glove.6B/glove.6B.%sd.txt' % EMBEDDING_DIM)) as file:\n",
    "    for line in file:\n",
    "        values = line.split()\n",
    "        word = values[0]\n",
    "        embedding_vector = np.asarray(values[1:], dtype='float32')\n",
    "        word2vec[word] = embedding_vector\n",
    "print('A total of %s word embeddings were founded.' % len(word2vec))"
   ]
  },
  {
   "cell_type": "markdown",
   "metadata": {},
   "source": [
    "Load the training data"
   ]
  },
  {
   "cell_type": "code",
   "execution_count": 3,
   "metadata": {},
   "outputs": [
    {
     "name": "stdout",
     "output_type": "stream",
     "text": [
      "Loading training data...\n",
      "Data loaded!\n"
     ]
    }
   ],
   "source": [
    "print('Loading training data...')\n",
    "train_raw = pd.read_csv(\"./data/train.csv\")\n",
    "label_names = [\"toxic\", \"severe_toxic\", \"obscene\", \"threat\", \"insult\", \"identity_hate\"]\n",
    "targets = train_raw[label_names].values\n",
    "print('Data loaded!')"
   ]
  },
  {
   "cell_type": "markdown",
   "metadata": {},
   "source": [
    "Have a look at the raw data"
   ]
  },
  {
   "cell_type": "code",
   "execution_count": 4,
   "metadata": {},
   "outputs": [
    {
     "name": "stdout",
     "output_type": "stream",
     "text": [
      "   Target   Count\n",
      "0  Normal  144277\n",
      "1   Toxic   15294\n"
     ]
    }
   ],
   "source": [
    "target = (\n",
    "    train_raw['toxic']\n",
    "    .value_counts()\n",
    "    .to_frame()\n",
    "    .reset_index()\n",
    "    .rename(columns={'index':'Target', 'toxic':'Count'})\n",
    "    .replace([0, 1], ['Normal', 'Toxic'])    \n",
    "          ) \n",
    "\n",
    "print(target)"
   ]
  },
  {
   "cell_type": "markdown",
   "metadata": {},
   "source": [
    "### Cleanse the data"
   ]
  },
  {
   "cell_type": "markdown",
   "metadata": {},
   "source": [
    "Cleanse the data, which is done by the class 'TextDataPreprocessor' written in 'preprocessing.py'. Inspect how many words in the vocabulary as well as in all the texts have available embeddings before and after the cleansing process. We can see that there's a huge increase of the percentage of words that find corresponding embeddings.  "
   ]
  },
  {
   "cell_type": "code",
   "execution_count": 5,
   "metadata": {
    "scrolled": false
   },
   "outputs": [
    {
     "name": "stdout",
     "output_type": "stream",
     "text": [
      "---------------------\n",
      "|Before cleansing...|\n",
      "---------------------\n",
      "Embeddings founded for 10.82% of vocab\n",
      "Embeddings founded for 71.92% of all texts\n",
      "oov word examples:\n",
      "[('I', 183930), ('The', 39578), ('If', 25463), ('You', 22107), (\"don't\", 20298), ('Wikipedia', 17585), (\"I'm\", 16519), ('It', 16414), ('Please', 15994), ('This', 15772)]\n",
      "---------------------\n",
      "|Cleansing corpus...|\n",
      "---------------------\n",
      "--------------------\n",
      "|After cleansing...|\n",
      "--------------------\n",
      "Embeddings founded for 45.86% of vocab\n",
      "Embeddings founded for 97.52% of all texts\n",
      "oov word examples:\n",
      "[('•', 5299), (\"wikipedia's\", 2706), ('contribs', 2634), ('npov', 1867), ('wikiproject', 1842), (\"article's\", 1614), ('tildes', 1436), ('wikipedian', 1270), ('barnstar', 1032), (\"''''''\", 1021)]\n"
     ]
    }
   ],
   "source": [
    "MAX_NUM_WORDS = 20000\n",
    "MIN_SEQ_LENGTH = 100\n",
    "\n",
    "print('-'*21 + '\\n|Before cleansing...|\\n' + '-'*21)\n",
    "vocab = corpus_to_vocab(train_raw['comment_text'])\n",
    "oov_words = embedding_coverage(vocab, word2vec)\n",
    "print(f\"oov word examples:\\n{oov_words[:10]}\")\n",
    "\n",
    "print('-'*21 + '\\n|Cleansing corpus...|\\n' + '-'*21)\n",
    "train = pd.DataFrame()\n",
    "preprocessor = TextDataPreprocessor(max_num_words = MAX_NUM_WORDS, min_seq_length = MIN_SEQ_LENGTH)\n",
    "train['comment_text'] = preprocessor.cleanse_corpus(train_raw['comment_text'])\n",
    "\n",
    "print('-'*20 + '\\n|After cleansing...|\\n' + '-'*20)\n",
    "vocab = corpus_to_vocab(train['comment_text'])\n",
    "oov_words = embedding_coverage(vocab, word2vec) \n",
    "print(f\"oov word examples:\\n{oov_words[:10]}\")\n"
   ]
  },
  {
   "cell_type": "markdown",
   "metadata": {},
   "source": [
    "### Tokenization and building data structures required by further NLP tasks"
   ]
  },
  {
   "cell_type": "markdown",
   "metadata": {},
   "source": [
    "Fit the preprocessor on the cleansed corpus."
   ]
  },
  {
   "cell_type": "code",
   "execution_count": 6,
   "metadata": {},
   "outputs": [],
   "source": [
    "preprocessor.fit_on_corpus(train['comment_text'])\n",
    "embedding_matrix = preprocessor.build_embedding_matrix(EMBEDDING_DIM, word2vec)"
   ]
  },
  {
   "cell_type": "markdown",
   "metadata": {},
   "source": [
    "Inspect the outputs."
   ]
  },
  {
   "cell_type": "code",
   "execution_count": 7,
   "metadata": {},
   "outputs": [
    {
     "name": "stdout",
     "output_type": "stream",
     "text": [
      "The most frequent words:\n",
      "[('the', 496580), ('to', 299016), ('i', 242096), ('of', 225313), ('and', 224198), ('you', 223841), ('a', 215746), ('is', 215682), ('that', 161662), ('not', 151265)]\n",
      "~~~~~~~~~~~~~~~~~~~~~~~~~~~~~~~~~~~~~~~~~~~~~~~~~~~~~~~~~~~~~~~~~~~~~~~~~~~~~~~~~~~~~~~~~~~~~~~~~~~~\n",
      "The word-to-index map:\n",
      "the: 1\n",
      "to: 2\n",
      "i: 3\n",
      "of: 4\n",
      "and: 5\n",
      "you: 6\n",
      "a: 7\n",
      "is: 8\n",
      "that: 9\n",
      "not: 10\n",
      "~~~~~~~~~~~~~~~~~~~~~~~~~~~~~~~~~~~~~~~~~~~~~~~~~~~~~~~~~~~~~~~~~~~~~~~~~~~~~~~~~~~~~~~~~~~~~~~~~~~~\n",
      "The shape of the embedding matrix:\n",
      "(20000, 50)\n"
     ]
    }
   ],
   "source": [
    "print(f\"The most frequent words:\\n{preprocessor.sorted_vocab[:10]}\")\n",
    "print(\"~\"*100)\n",
    "print(\"The word-to-index map:\")\n",
    "for word, idx in list(preprocessor.word2idx.items())[:10]:\n",
    "    print(f\"{word}: {idx}\")\n",
    "print(\"~\"*100)\n",
    "print(\"The shape of the embedding matrix:\")\n",
    "print(embedding_matrix.shape)"
   ]
  },
  {
   "cell_type": "markdown",
   "metadata": {},
   "source": [
    "Check out some properties of the sequences"
   ]
  },
  {
   "cell_type": "code",
   "execution_count": 8,
   "metadata": {},
   "outputs": [
    {
     "name": "stdout",
     "output_type": "stream",
     "text": [
      "Before padding:\n",
      "Max sequence length: 1400\n",
      "Min sequence length: 0\n",
      "Median sequence length: 35\n",
      "~~~~~~~~~~~~~~~~~~~~~~~~~~~~~~~~~~~~~~~~~~~~~~~~~~~~~~~~~~~~~~~~~~~~~~~~~~~~~~~~~~~~~~~~~~~~~~~~~~~~\n",
      "After padding:\n",
      "Max sequence length: 100\n",
      "Min sequence length: 100\n",
      "Median sequence length: 100\n"
     ]
    }
   ],
   "source": [
    "print('Before padding:')\n",
    "print('Max sequence length: %i' % max(len(s) for s in preprocessor.sequences))\n",
    "print('Min sequence length: %i' % min(len(s) for s in preprocessor.sequences))\n",
    "seq_length = [len(s) for s in preprocessor.sequences]\n",
    "print('Median sequence length: %i' %np.median(seq_length))\n",
    "\n",
    "print('~'*100)\n",
    "\n",
    "print('After padding:')\n",
    "print('Max sequence length: %i' % max(len(s) for s in preprocessor.padded_sequences))\n",
    "print('Min sequence length: %i' % min(len(s) for s in preprocessor.padded_sequences))\n",
    "seq_length = [len(s) for s in preprocessor.padded_sequences]\n",
    "print('Median sequence length: %i' %np.median(seq_length))"
   ]
  },
  {
   "cell_type": "markdown",
   "metadata": {},
   "source": [
    "Check out how many unique tokens we found in the corpus"
   ]
  },
  {
   "cell_type": "code",
   "execution_count": 9,
   "metadata": {},
   "outputs": [
    {
     "name": "stdout",
     "output_type": "stream",
     "text": [
      "Found 208509 unique tokens\n"
     ]
    }
   ],
   "source": [
    "# Word -> integer mapping\n",
    "word2idx = preprocessor.word2idx\n",
    "print('Found %i unique tokens' %len(word2idx))"
   ]
  },
  {
   "cell_type": "markdown",
   "metadata": {},
   "source": [
    "## Build the model"
   ]
  },
  {
   "cell_type": "markdown",
   "metadata": {},
   "source": [
    "Here we build a model composed of a bidirectional GRU with the attention mechanism to rate the toxicities of the comments."
   ]
  },
  {
   "cell_type": "markdown",
   "metadata": {},
   "source": [
    "### Import libraries"
   ]
  },
  {
   "cell_type": "code",
   "execution_count": 17,
   "metadata": {},
   "outputs": [],
   "source": [
    "import torch\n",
    "import torch.nn as nn"
   ]
  },
  {
   "cell_type": "markdown",
   "metadata": {},
   "source": [
    "### Write related classes"
   ]
  },
  {
   "cell_type": "code",
   "execution_count": 18,
   "metadata": {},
   "outputs": [],
   "source": [
    "class Model(nn.Module):\n",
    "    def __init__(self, num_words, embedding_dim, embedding_matrix, hidden_dim, units, output_dim, drp2D_rate = 0.1, drp_rate = 0.2):\n",
    "        super().__init__()\n",
    "        self.hidden_dim = hidden_dim\n",
    "        \n",
    "        self.embedding_layer = nn.Embedding(num_words, embedding_dim)\n",
    "        self.embedding_layer.weight = nn.Parameter(torch.tensor(embedding_matrix, dtype=torch.float32))\n",
    "        self.embedding_layer.weight.requires_grad = False\n",
    "        \n",
    "        self.dropout2d = nn.Dropout2d(drp2D_rate)\n",
    "        self.bi_gru = nn.GRU(embedding_dim, hidden_dim, bidirectional = True, batch_first = True)\n",
    "        self.attention_layer = AttentionLayer(2 * hidden_dim, units)\n",
    "        self.linear_1 = nn.Linear(2 * hidden_dim, 64)\n",
    "        self.dropout = nn.Dropout(drp_rate)\n",
    "        self.linear_2 = nn.Linear(64, 6)\n",
    "        self.relu = nn.ReLU()\n",
    "        self.sigmoid = nn.Sigmoid()\n",
    " \n",
    "    def forward(self, seqs):\n",
    "        x = self.embedding_layer(seqs)\n",
    "        x = self.dropout2d(x)\n",
    "        values, query = self.bi_gru(x)\n",
    "        query = query.transpose(0, 1)\n",
    "        query = query.reshape(-1, self.hidden_dim * 2)\n",
    "        x, _ = self.attention_layer(values, query)\n",
    "        x = self.relu(self.linear_1(x))\n",
    "        x = self.dropout(x)\n",
    "        outputs = self.sigmoid(self.linear_2(x))\n",
    "\n",
    "        return outputs\n",
    "\n",
    "\n",
    "class AttentionLayer(nn.Module):\n",
    "    \"\"\"\n",
    "            Attention scores: e = tanh(W1*values + W2*query)\n",
    "            Attention weights: alpha = softmax(e)\n",
    "            Attention output/context vector: a = sum(alpha*values)\n",
    "    \"\"\"\n",
    "    def __init__(self, concat_hidden_dim, units):\n",
    "        super().__init__()\n",
    "        self.concat_hidden_dim = concat_hidden_dim\n",
    "        self.W_values = nn.Linear(concat_hidden_dim, units)\n",
    "        self.W_query = nn.Linear(concat_hidden_dim, units)\n",
    "        self.V = nn.Linear(units, 1)\n",
    "        self.tanh = nn.Tanh()\n",
    "        self.softmax = nn.Softmax(dim = 1)\n",
    "\n",
    "    def forward(self, values, query):\n",
    "        \"\"\"\n",
    "                values: (batch_size, seq_len, concat_hidden_dim)\n",
    "                query: (batch_size, concat_hidden_dim) -> (batch_size, 1, concat_hidden_dim)\n",
    "                scores: (batch_size, seq_len, 1)\n",
    "                attention_weights: (batch_size, seq_len, 1)\n",
    "                context_vector: (batch_size, concat_hidden_dim)\n",
    "        \"\"\"\n",
    "        query_expanded = query.unsqueeze(dim = 1)\n",
    "        scores = self.V(self.tanh(self.W_values(values) + self.W_query(query_expanded)))  # Broadcasting\n",
    "        attention_weights = self.softmax(scores)\n",
    "        context_vector = attention_weights * values  # Broadcasting\n",
    "        context_vector = torch.sum(context_vector, dim = 1)\n",
    "\n",
    "        return context_vector, attention_weights"
   ]
  },
  {
   "cell_type": "code",
   "execution_count": 19,
   "metadata": {},
   "outputs": [],
   "source": [
    "model = Model(preprocessor.num_words, EMBEDDING_DIM, embedding_matrix, 64, 10, 6)"
   ]
  },
  {
   "cell_type": "code",
   "execution_count": 20,
   "metadata": {},
   "outputs": [],
   "source": [
    "# print(torch.tensor(preprocessor.padded_sequences[:5]))\n",
    "# print(model(torch.tensor(preprocessor.padded_sequences[:5])))"
   ]
  },
  {
   "cell_type": "markdown",
   "metadata": {},
   "source": [
    "## Train the model"
   ]
  },
  {
   "cell_type": "markdown",
   "metadata": {},
   "source": [
    "### Write the training loop"
   ]
  },
  {
   "cell_type": "code",
   "execution_count": 22,
   "metadata": {
    "scrolled": true
   },
   "outputs": [],
   "source": [
    "################# BUILDING MODEL ###################\n",
    "import time\n",
    "\n",
    "def experiment(train_dataset, val_dataset, args):\n",
    "    model = Model(preprocessor.num_words, EMBEDDING_DIM, embedding_matrix, 64, 10, 6)\n",
    "\n",
    "    print(model)\n",
    "    \n",
    "    val_dataloader = torch.utils.data.DataLoader(val_dataset, batch_size = args.batch_size, shuffle = False)\n",
    "\n",
    "    if args.gpu:\n",
    "        # ****** Copy model to device ****** #\n",
    "        model.to(device)\n",
    "\n",
    "    # ====== Loss function ====== #\n",
    "    lossfunction = nn.BCELoss(reduction = 'sum') \n",
    "\n",
    "    optimizer = torch.optim.Adam(filter(lambda p: p.requires_grad, model.parameters()))\n",
    "\n",
    "    # ====== Data collection ====== #\n",
    "    list_epoch = [] \n",
    "    list_train_loss = []\n",
    "    list_val_loss = []\n",
    "    list_train_acc = []\n",
    "    list_val_acc = []\n",
    "    \n",
    "    best_val_acc = 0.0\n",
    "\n",
    "    # ====== Loop ====== #\n",
    "    for epoch in range(args.epoch):  \n",
    "        \n",
    "        t0 = time.time()\n",
    "        \n",
    "        # ====== Train ====== #\n",
    "        model.train() # Set the model be 'train mode' \n",
    "        train_loss = 0 # to sum up each batch\n",
    "        correct = 0\n",
    "        \n",
    "        train_dataloader = torch.utils.data.DataLoader(train_dataset, batch_size = args.batch_size, shuffle = True)\n",
    "        \n",
    "        for batch_X, batch_y in train_dataloader:\n",
    "            \n",
    "            optimizer.zero_grad()\n",
    "            \n",
    "            if args.gpu:\n",
    "                # ****** Transfer data to GPU ****** #\n",
    "                batch_X = batch_X.to(device)\n",
    "                batch_y = batch_y.to(device)\n",
    "\n",
    "            pred_y = model(batch_X)\n",
    "            \n",
    "            loss = lossfunction(pred_y, batch_y)\n",
    "\n",
    "            loss.backward()\n",
    "            \n",
    "            optimizer.step()\n",
    "            \n",
    "            train_loss += loss.item()\n",
    "            \n",
    "            correct += (pred_y > 0.5).float().eq(batch_y).sum().item()\n",
    "                                    \n",
    "        train_loss = train_loss / (num_train * 6)\n",
    "        list_train_loss.append(train_loss)\n",
    "        list_epoch.append(epoch)\n",
    "        \n",
    "        train_acc = correct / (num_train * 6)\n",
    "        list_train_acc.append(train_acc)\n",
    "        \n",
    "        print(f'{time.time() - t0} seconds')\n",
    "\n",
    "        # ====== Validation ====== #\n",
    "        model.eval() # Set the model be 'evaluate mode' \n",
    "        val_loss = 0 # to sum up each batch\n",
    "        correct = 0\n",
    "                         \n",
    "        with torch.inference_mode():\n",
    "            \n",
    "            for batch_X, batch_y in val_dataloader:\n",
    "        \n",
    "                if args.gpu:\n",
    "                    # ****** Transfer data to GPU ****** #\n",
    "                    batch_X = batch_X.to(device)\n",
    "                    batch_y = batch_y.to(device)\n",
    "\n",
    "                pred_y = model(batch_X)\n",
    "                \n",
    "                loss = lossfunction(pred_y, batch_y)\n",
    "                \n",
    "                val_loss += loss.item()\n",
    "                \n",
    "                correct += (pred_y > 0.5).float().eq(batch_y).sum().item()\n",
    "\n",
    "        val_loss = val_loss / (num_val * 6)\n",
    "        list_val_loss.append(val_loss)\n",
    "        \n",
    "        val_acc = correct / (num_val * 6)\n",
    "        list_val_acc.append(val_acc)\n",
    "        \n",
    "        if val_acc > best_val_acc:\n",
    "            print(f\"Epoch {epoch}: The best validation accurary increased from {best_val_acc: .4f} to {val_acc: .4f}\")\n",
    "            best_val_acc = val_acc\n",
    "            torch.save(model.state_dict(), './model_pytorch/model_dict_best.pt')\n",
    "        else:\n",
    "            print(f\"Epoch {epoch}: The best validation accurary did not increase\")\n",
    "        \n",
    "        print(f'Epoch: {epoch}, Train Loss: {train_loss: .4f}, Val Loss: {val_loss: .4f}, Train acc: {train_acc: .4f}, Val Acc: {val_acc: .4f}')\n",
    "        print('~' * 100)\n",
    "        \n",
    "    return list_epoch, list_train_loss, list_val_loss, list_train_acc, list_val_acc\n"
   ]
  },
  {
   "cell_type": "markdown",
   "metadata": {},
   "source": [
    "### Train"
   ]
  },
  {
   "cell_type": "code",
   "execution_count": 23,
   "metadata": {},
   "outputs": [],
   "source": [
    "import argparse\n",
    "import random"
   ]
  },
  {
   "cell_type": "code",
   "execution_count": 24,
   "metadata": {},
   "outputs": [
    {
     "name": "stdout",
     "output_type": "stream",
     "text": [
      "Model(\n",
      "  (embedding_layer): Embedding(20000, 50)\n",
      "  (dropout2d): Dropout2d(p=0.1, inplace=False)\n",
      "  (bi_gru): GRU(50, 64, batch_first=True, bidirectional=True)\n",
      "  (attention_layer): AttentionLayer(\n",
      "    (W_values): Linear(in_features=128, out_features=10, bias=True)\n",
      "    (W_query): Linear(in_features=128, out_features=10, bias=True)\n",
      "    (V): Linear(in_features=10, out_features=1, bias=True)\n",
      "    (tanh): Tanh()\n",
      "    (softmax): Softmax(dim=1)\n",
      "  )\n",
      "  (linear_1): Linear(in_features=128, out_features=64, bias=True)\n",
      "  (dropout): Dropout(p=0.2, inplace=False)\n",
      "  (linear_2): Linear(in_features=64, out_features=6, bias=True)\n",
      "  (relu): ReLU()\n",
      "  (sigmoid): Sigmoid()\n",
      ")\n",
      "208.49320602416992 seconds\n",
      "Epoch 0: The best validation accurary increased from  0.0000 to  0.9783\n",
      "Epoch: 0, Train Loss:  0.1071, Val Loss:  0.0617, Train acc:  0.9686, Val Acc:  0.9783\n",
      "~~~~~~~~~~~~~~~~~~~~~~~~~~~~~~~~~~~~~~~~~~~~~~~~~~~~~~~~~~~~~~~~~~~~~~~~~~~~~~~~~~~~~~~~~~~~~~~~~~~~\n",
      "209.98536109924316 seconds\n",
      "Epoch 1: The best validation accurary increased from  0.9783 to  0.9803\n",
      "Epoch: 1, Train Loss:  0.0628, Val Loss:  0.0560, Train acc:  0.9786, Val Acc:  0.9803\n",
      "~~~~~~~~~~~~~~~~~~~~~~~~~~~~~~~~~~~~~~~~~~~~~~~~~~~~~~~~~~~~~~~~~~~~~~~~~~~~~~~~~~~~~~~~~~~~~~~~~~~~\n",
      "213.72213292121887 seconds\n",
      "Epoch 2: The best validation accurary increased from  0.9803 to  0.9810\n",
      "Epoch: 2, Train Loss:  0.0598, Val Loss:  0.0536, Train acc:  0.9793, Val Acc:  0.9810\n",
      "~~~~~~~~~~~~~~~~~~~~~~~~~~~~~~~~~~~~~~~~~~~~~~~~~~~~~~~~~~~~~~~~~~~~~~~~~~~~~~~~~~~~~~~~~~~~~~~~~~~~\n",
      "213.13280510902405 seconds\n",
      "Epoch 3: The best validation accurary increased from  0.9810 to  0.9814\n",
      "Epoch: 3, Train Loss:  0.0570, Val Loss:  0.0516, Train acc:  0.9801, Val Acc:  0.9814\n",
      "~~~~~~~~~~~~~~~~~~~~~~~~~~~~~~~~~~~~~~~~~~~~~~~~~~~~~~~~~~~~~~~~~~~~~~~~~~~~~~~~~~~~~~~~~~~~~~~~~~~~\n",
      "213.07283425331116 seconds\n",
      "Epoch 4: The best validation accurary did not increase\n",
      "Epoch: 4, Train Loss:  0.0554, Val Loss:  0.0509, Train acc:  0.9804, Val Acc:  0.9814\n",
      "~~~~~~~~~~~~~~~~~~~~~~~~~~~~~~~~~~~~~~~~~~~~~~~~~~~~~~~~~~~~~~~~~~~~~~~~~~~~~~~~~~~~~~~~~~~~~~~~~~~~\n",
      "224.66566514968872 seconds\n",
      "Epoch 5: The best validation accurary increased from  0.9814 to  0.9820\n",
      "Epoch: 5, Train Loss:  0.0540, Val Loss:  0.0496, Train acc:  0.9810, Val Acc:  0.9820\n",
      "~~~~~~~~~~~~~~~~~~~~~~~~~~~~~~~~~~~~~~~~~~~~~~~~~~~~~~~~~~~~~~~~~~~~~~~~~~~~~~~~~~~~~~~~~~~~~~~~~~~~\n",
      "237.77391386032104 seconds\n",
      "Epoch 6: The best validation accurary increased from  0.9820 to  0.9821\n",
      "Epoch: 6, Train Loss:  0.0524, Val Loss:  0.0487, Train acc:  0.9814, Val Acc:  0.9821\n",
      "~~~~~~~~~~~~~~~~~~~~~~~~~~~~~~~~~~~~~~~~~~~~~~~~~~~~~~~~~~~~~~~~~~~~~~~~~~~~~~~~~~~~~~~~~~~~~~~~~~~~\n",
      "229.73389196395874 seconds\n",
      "Epoch 7: The best validation accurary increased from  0.9821 to  0.9823\n",
      "Epoch: 7, Train Loss:  0.0513, Val Loss:  0.0477, Train acc:  0.9817, Val Acc:  0.9823\n",
      "~~~~~~~~~~~~~~~~~~~~~~~~~~~~~~~~~~~~~~~~~~~~~~~~~~~~~~~~~~~~~~~~~~~~~~~~~~~~~~~~~~~~~~~~~~~~~~~~~~~~\n",
      "219.52836298942566 seconds\n",
      "Epoch 8: The best validation accurary did not increase\n",
      "Epoch: 8, Train Loss:  0.0503, Val Loss:  0.0500, Train acc:  0.9821, Val Acc:  0.9818\n",
      "~~~~~~~~~~~~~~~~~~~~~~~~~~~~~~~~~~~~~~~~~~~~~~~~~~~~~~~~~~~~~~~~~~~~~~~~~~~~~~~~~~~~~~~~~~~~~~~~~~~~\n",
      "215.02799534797668 seconds\n",
      "Epoch 9: The best validation accurary increased from  0.9823 to  0.9825\n",
      "Epoch: 9, Train Loss:  0.0491, Val Loss:  0.0469, Train acc:  0.9824, Val Acc:  0.9825\n",
      "~~~~~~~~~~~~~~~~~~~~~~~~~~~~~~~~~~~~~~~~~~~~~~~~~~~~~~~~~~~~~~~~~~~~~~~~~~~~~~~~~~~~~~~~~~~~~~~~~~~~\n"
     ]
    }
   ],
   "source": [
    "parser = argparse.ArgumentParser()\n",
    "\n",
    "args = parser.parse_args(\"\")\n",
    "\n",
    "args.gpu = False\n",
    "args.epoch = 10\n",
    "args.batch_size = 256\n",
    "\n",
    "num_data = len(targets.tolist())\n",
    "val_split_rate = 0.1\n",
    "num_val = round(num_data * 0.1)\n",
    "num_train = num_data - num_val\n",
    "\n",
    "shuffled = list(zip(preprocessor.padded_sequences, targets.tolist()))\n",
    "random.shuffle(shuffled)\n",
    "train_X, train_y = zip(*shuffled[:num_train])\n",
    "val_X, val_y = zip(*shuffled[num_train:])\n",
    "\n",
    "train_dataset = SDDataset(train_X, train_y)\n",
    "val_dataset = SDDataset(val_X, val_y)\n",
    "\n",
    "list_epoch, list_train_loss, list_val_loss, list_train_acc, list_val_acc = experiment(train_dataset, val_dataset, args)\n"
   ]
  },
  {
   "cell_type": "markdown",
   "metadata": {},
   "source": [
    "### Display the training history"
   ]
  },
  {
   "cell_type": "code",
   "execution_count": 25,
   "metadata": {},
   "outputs": [
    {
     "data": {
      "image/png": "[encoded data removed]",
      "text/plain": [
       "<Figure size 1080x360 with 2 Axes>"
      ]
     },
     "metadata": {
      "needs_background": "light"
     },
     "output_type": "display_data"
    }
   ],
   "source": [
    "fig = plt.figure(figsize=(15,5))\n",
    "\n",
    "# ====== Plot Loss ====== #\n",
    "ax1 = fig.add_subplot(1, 2, 1)\n",
    "ax1.plot(list_epoch, list_train_loss, label='train_loss')\n",
    "ax1.plot(list_epoch, list_val_loss, '--', label='val_loss')\n",
    "ax1.set_xlabel('epoch')\n",
    "ax1.set_ylabel('loss')\n",
    "ax1.grid()\n",
    "ax1.legend()\n",
    "ax1.set_title('epoch vs loss')\n",
    "\n",
    "# ====== Plot Metric ====== #\n",
    "ax2 = fig.add_subplot(1, 2, 2)\n",
    "ax2.plot(list_epoch, list_train_acc, marker='x', label='train_acc')\n",
    "ax2.plot(list_epoch, list_val_acc, marker='x', label='val_acc')\n",
    "ax2.set_xlabel('epoch')\n",
    "ax2.set_ylabel('acc')\n",
    "ax2.grid()\n",
    "ax2.legend()\n",
    "ax2.set_title('epoch vs acc')\n",
    "\n",
    "\n",
    "plt.show()"
   ]
  },
  {
   "cell_type": "markdown",
   "metadata": {},
   "source": [
    "### Try to predict on some comments"
   ]
  },
  {
   "cell_type": "markdown",
   "metadata": {},
   "source": [
    "Load the model"
   ]
  },
  {
   "cell_type": "code",
   "execution_count": 36,
   "metadata": {},
   "outputs": [
    {
     "data": {
      "text/plain": [
       "<All keys matched successfully>"
      ]
     },
     "execution_count": 36,
     "metadata": {},
     "output_type": "execute_result"
    }
   ],
   "source": [
    "model = Model(preprocessor.num_words, EMBEDDING_DIM, embedding_matrix, 64, 10, 6)\n",
    "model.load_state_dict(torch.load('./model_pytorch/model_dict_best.pt'))"
   ]
  },
  {
   "cell_type": "code",
   "execution_count": 37,
   "metadata": {},
   "outputs": [],
   "source": [
    "def predict_toxic(texts): \n",
    "    texts_cleaned = preprocessor.cleanse_corpus(texts)\n",
    "        \n",
    "    seqs = preprocessor.get_sequences_of_test_texts(texts_cleaned)\n",
    "     \n",
    "    # Prediction\n",
    "    predicts = model(torch.tensor(seqs))\n",
    "    return predicts.T"
   ]
  },
  {
   "cell_type": "code",
   "execution_count": 38,
   "metadata": {},
   "outputs": [
    {
     "name": "stdout",
     "output_type": "stream",
     "text": [
      "~~~~~~~~~~~~~~~~~~~~~~~~~~~~~~~~~~~~~~~~~~~~~~~~~~~~~~~~~~~~~~~~~~~~~~~~~~~~~~~~~~~~~~~~~~~~~~~~~~~~\n",
      "\"Fuck yourself you son of a bitch\":\n",
      "Toxic score: 1.0000\n",
      "Severe toxic score: 0.6100\n",
      "Obsence score: 0.9997\n",
      "Threat score: 0.0181\n",
      "Insult score: 0.9796\n",
      "Identity hate score: 0.0636\n",
      "~~~~~~~~~~~~~~~~~~~~~~~~~~~~~~~~~~~~~~~~~~~~~~~~~~~~~~~~~~~~~~~~~~~~~~~~~~~~~~~~~~~~~~~~~~~~~~~~~~~~\n",
      "\"I swear I'm gonna kill you\":\n",
      "Toxic score: 0.9228\n",
      "Severe toxic score: 0.0793\n",
      "Obsence score: 0.1875\n",
      "Threat score: 0.8974\n",
      "Insult score: 0.0599\n",
      "Identity hate score: 0.0379\n",
      "~~~~~~~~~~~~~~~~~~~~~~~~~~~~~~~~~~~~~~~~~~~~~~~~~~~~~~~~~~~~~~~~~~~~~~~~~~~~~~~~~~~~~~~~~~~~~~~~~~~~\n",
      "\"I think that's fine\":\n",
      "Toxic score: 0.0959\n",
      "Severe toxic score: 0.0013\n",
      "Obsence score: 0.0279\n",
      "Threat score: 0.0008\n",
      "Insult score: 0.0322\n",
      "Identity hate score: 0.0024\n"
     ]
    }
   ],
   "source": [
    "input_texts = [\"Fuck yourself you son of a bitch\", \"I swear I'm gonna kill you\", \"I think that's fine\"]\n",
    "\n",
    "toxic, severe_toxic, obsence, threat, insult, identity_hate = predict_toxic(input_texts)\n",
    "\n",
    "predictions = {}\n",
    "predictions['Toxic score'] = toxic\n",
    "predictions['Severe toxic score'] = severe_toxic\n",
    "predictions['Obsence score'] = obsence\n",
    "predictions['Threat score'] = threat\n",
    "predictions['Insult score'] = insult\n",
    "predictions['Identity hate score'] = identity_hate\n",
    "\n",
    "for i in range(len(input_texts)):\n",
    "    print('~'*100)\n",
    "    print(f\"\\\"{input_texts[i]}\\\":\")\n",
    "    for label, score in predictions.items():\n",
    "        print(f\"{label}: {score[i]:.4f}\")"
   ]
  },
  {
   "cell_type": "markdown",
   "metadata": {},
   "source": [
    "## Evaluate the model with test data"
   ]
  },
  {
   "cell_type": "markdown",
   "metadata": {},
   "source": [
    "### Load and preprocess the test data"
   ]
  },
  {
   "cell_type": "code",
   "execution_count": 39,
   "metadata": {},
   "outputs": [],
   "source": [
    "test_raw = pd.read_csv(\"./data/test.csv\")\n",
    "test_labels = pd.read_csv(\"./data/test_labels.csv\")\n",
    "test_raw = pd.merge(test_raw, test_labels, how='left', on='id')\n",
    "test_raw = test_raw.drop(test_raw[test_raw['toxic']==-1].index)\n",
    "test_raw.index = range(len(test_raw))\n",
    "\n",
    "label_names = [\"toxic\", \"severe_toxic\", \"obscene\", \"threat\", \"insult\", \"identity_hate\"]\n",
    "test_targets = test_raw[label_names].values"
   ]
  },
  {
   "cell_type": "markdown",
   "metadata": {},
   "source": [
    "Take a look at the test data"
   ]
  },
  {
   "cell_type": "code",
   "execution_count": 40,
   "metadata": {},
   "outputs": [
    {
     "name": "stdout",
     "output_type": "stream",
     "text": [
      "                 id                                       comment_text  toxic  \\\n",
      "0  0001ea8717f6de06  Thank you for understanding. I think very high...      0   \n",
      "1  000247e83dcc1211                   :Dear god this site is horrible.      0   \n",
      "2  0002f87b16116a7f  \"::: Somebody will invariably try to add Relig...      0   \n",
      "3  0003e1cccfd5a40a  \" \\n\\n It says it right there that it IS a typ...      0   \n",
      "4  00059ace3e3e9a53  \" \\n\\n == Before adding a new product to the l...      0   \n",
      "\n",
      "   severe_toxic  obscene  threat  insult  identity_hate  \n",
      "0             0        0       0       0              0  \n",
      "1             0        0       0       0              0  \n",
      "2             0        0       0       0              0  \n",
      "3             0        0       0       0              0  \n",
      "4             0        0       0       0              0  \n",
      "63978\n",
      "0        Thank you for understanding. I think very high...\n",
      "1                         :Dear god this site is horrible.\n",
      "2        \"::: Somebody will invariably try to add Relig...\n",
      "3        \" \\n\\n It says it right there that it IS a typ...\n",
      "4        \" \\n\\n == Before adding a new product to the l...\n",
      "                               ...                        \n",
      "63973    :Jerome, I see you never got around to this…! ...\n",
      "63974    ==Lucky bastard== \\n http://wikimediafoundatio...\n",
      "63975    ==shame on you all!!!== \\n\\n You want to speak...\n",
      "63976    MEL GIBSON IS A NAZI BITCH WHO MAKES SHITTY MO...\n",
      "63977    \" \\n\\n == Unicorn lair discovery == \\n\\n Suppo...\n",
      "Name: comment_text, Length: 63978, dtype: object\n"
     ]
    }
   ],
   "source": [
    "print(test_raw.head())\n",
    "print(len(test_targets))\n",
    "print(test_raw['comment_text'])"
   ]
  },
  {
   "cell_type": "markdown",
   "metadata": {},
   "source": [
    "Cleanse the data. \n",
    "\n",
    "This time we check how many tokens in the test data are covered by the train vocab before and after the cleansing."
   ]
  },
  {
   "cell_type": "code",
   "execution_count": 41,
   "metadata": {},
   "outputs": [
    {
     "name": "stdout",
     "output_type": "stream",
     "text": [
      "---------------------\n",
      "|Before cleansing...|\n",
      "---------------------\n",
      "Embeddings founded for 12.21% of vocab\n",
      "Embeddings founded for 67.84% of all texts\n",
      "oov word examples:\n",
      "[('I', 58698), ('\"', 33393), ('==', 31155), ('The', 14136), ('-', 9794), ('If', 8512), (\"I'm\", 6253), ('You', 6135), ('It', 5963), ('This', 5760)]\n",
      "---------------------\n",
      "|Cleansing corpus...|\n",
      "---------------------\n",
      "--------------------\n",
      "|After cleansing...|\n",
      "--------------------\n",
      "Embeddings founded for 42.76% of vocab\n",
      "Embeddings founded for 96.19% of all texts\n",
      "oov word examples:\n",
      "[('I', 58698), ('\"', 33393), ('==', 31155), ('The', 14136), ('-', 9794), ('If', 8512), (\"I'm\", 6253), ('You', 6135), ('It', 5963), ('This', 5760)]\n"
     ]
    }
   ],
   "source": [
    "print('-'*21 + '\\n|Before cleansing...|\\n' + '-'*21)\n",
    "vocab_test = corpus_to_vocab(test_raw['comment_text'])\n",
    "oov_words_text = embedding_coverage(vocab_test, preprocessor.word2idx)\n",
    "print(f\"oov word examples:\\n{oov_words_text[:10]}\")\n",
    "\n",
    "print('-'*21 + '\\n|Cleansing corpus...|\\n' + '-'*21)\n",
    "test = pd.DataFrame()\n",
    "test['comment_text'] = preprocessor.cleanse_corpus(test_raw['comment_text'])\n",
    "\n",
    "print('-'*20 + '\\n|After cleansing...|\\n' + '-'*20)\n",
    "vocab_test = corpus_to_vocab(test['comment_text'])\n",
    "oov_words_test = embedding_coverage(vocab_test, preprocessor.word2idx) \n",
    "print(f\"oov word examples:\\n{oov_words_text[:10]}\")"
   ]
  },
  {
   "cell_type": "markdown",
   "metadata": {},
   "source": [
    "Get the sequences of test texts"
   ]
  },
  {
   "cell_type": "code",
   "execution_count": 42,
   "metadata": {
    "scrolled": true
   },
   "outputs": [
    {
     "name": "stdout",
     "output_type": "stream",
     "text": [
      "63978\n"
     ]
    }
   ],
   "source": [
    "seqs_test = preprocessor.get_sequences_of_test_texts(list(test['comment_text']))\n",
    "print(len(seqs_test))"
   ]
  },
  {
   "cell_type": "markdown",
   "metadata": {},
   "source": [
    "### Evaluate the model by the test data"
   ]
  },
  {
   "cell_type": "code",
   "execution_count": 43,
   "metadata": {},
   "outputs": [
    {
     "name": "stdout",
     "output_type": "stream",
     "text": [
      "Test loss:  0.0692\n",
      "Test binary accuracy:  0.9729\n"
     ]
    }
   ],
   "source": [
    "lossfunction = nn.BCELoss() \n",
    "\n",
    "model.eval() # Set the model be 'evaluate mode' \n",
    "test_loss = 0 # to sum up each batch\n",
    "correct = 0\n",
    "\n",
    "test_X = seqs_test\n",
    "test_y = test_targets.tolist()\n",
    "\n",
    "test_dataset = SDDataset(test_X, test_y)\n",
    "\n",
    "num_test = len(test_y)\n",
    "\n",
    "test_dataloader = torch.utils.data.DataLoader(test_dataset, batch_size = args.batch_size, shuffle = False)\n",
    "num_batches = len(test_dataloader)\n",
    "\n",
    "with torch.no_grad():\n",
    "    for batch_X, batch_y in test_dataloader:\n",
    "        \n",
    "        if args.gpu:\n",
    "            # ****** Transfer data to GPU ****** #\n",
    "            batch_X = batch_X.to(device)\n",
    "            batch_y = batch_y.to(device)\n",
    "\n",
    "        pred_y = model(batch_X)\n",
    "        \n",
    "        loss = lossfunction(pred_y, batch_y)\n",
    "\n",
    "        test_loss += loss.item()\n",
    "\n",
    "        correct += (pred_y > 0.5).float().eq(batch_y).sum().item()\n",
    "\n",
    "test_loss = test_loss / num_batches\n",
    "\n",
    "test_acc = correct / (num_test * 6)\n",
    "\n",
    "print(f'Test loss: {test_loss: .4f}') \n",
    "print(f'Test binary accuracy: {test_acc: .4f}')"
   ]
  },
  {
   "cell_type": "markdown",
   "metadata": {},
   "source": [
    "## Remark"
   ]
  },
  {
   "cell_type": "markdown",
   "metadata": {},
   "source": [
    "Let's understand the metrics. The binary accuracy used to moniter and evaluate the model performance calculates the accuracy of the predictions for all entries (toxicity categories) of all data samples. This can be illustrated by the following simply example:"
   ]
  },
  {
   "cell_type": "code",
   "execution_count": 44,
   "metadata": {},
   "outputs": [],
   "source": [
    "from keras.metrics import binary_accuracy"
   ]
  },
  {
   "cell_type": "code",
   "execution_count": 45,
   "metadata": {},
   "outputs": [
    {
     "name": "stdout",
     "output_type": "stream",
     "text": [
      "tensor(0.6667)\n"
     ]
    }
   ],
   "source": [
    "labels = torch.tensor([[0, 1, 0, 1, 0, 0], [1, 1, 0, 0, 1, 1]], dtype = torch.float32)\n",
    "results = torch.tensor([[0.1, 0.2, 0.9, 0.6, 0.6, 0.7], [0.8, 0.9, 0.1, 0.4, 0.7, 0.7]], dtype = torch.float32)\n",
    "\n",
    "print((results > 0.5).float().eq(labels).sum() / (labels.size()[0] * labels.size()[1]))"
   ]
  },
  {
   "cell_type": "markdown",
   "metadata": {},
   "source": [
    "Because we have 12 entries in total and 8 of them get predicted correctly, which leads to the result of 8/12 = 0.6666667."
   ]
  },
  {
   "cell_type": "markdown",
   "metadata": {},
   "source": [
    "Our model achieved 0.9729 on the test data, which is quite good. Other metrics may be preferred according to the purpose of the specific task. Further achitecture and hyperparameter tuning and using word embeddings with higher embedding dimension could possibly lead to better performance."
   ]
  },
  {
   "cell_type": "code",
   "execution_count": null,
   "metadata": {},
   "outputs": [],
   "source": []
  }
 ],
 "metadata": {
  "colab": {
   "authorship_tag": "ABX9TyMsr5cT4nGEybYESEmFAYWl",
   "collapsed_sections": [],
   "name": "BBox Regression.ipynb",
   "provenance": []
  },
  "kernelspec": {
   "display_name": "Python 3",
   "language": "python",
   "name": "python3"
  },
  "language_info": {
   "codemirror_mode": {
    "name": "ipython",
    "version": 3
   },
   "file_extension": ".py",
   "mimetype": "text/x-python",
   "name": "python",
   "nbconvert_exporter": "python",
   "pygments_lexer": "ipython3",
   "version": "3.7.2"
  }
 },
 "nbformat": 4,
 "nbformat_minor": 1
}
